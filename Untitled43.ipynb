{
 "cells": [
  {
   "cell_type": "code",
   "execution_count": 1,
   "id": "a813fdcd",
   "metadata": {},
   "outputs": [
    {
     "name": "stdout",
     "output_type": "stream",
     "text": [
      "Requirement already satisfied: gTTs in c:\\users\\19144\\anaconda3\\lib\\site-packages (2.3.1)\n",
      "Requirement already satisfied: click<8.2,>=7.1 in c:\\users\\19144\\anaconda3\\lib\\site-packages (from gTTs) (8.0.4)\n",
      "Requirement already satisfied: requests<3,>=2.27 in c:\\users\\19144\\anaconda3\\lib\\site-packages (from gTTs) (2.28.1)\n",
      "Requirement already satisfied: colorama in c:\\users\\19144\\anaconda3\\lib\\site-packages (from click<8.2,>=7.1->gTTs) (0.4.6)\n",
      "Requirement already satisfied: certifi>=2017.4.17 in c:\\users\\19144\\anaconda3\\lib\\site-packages (from requests<3,>=2.27->gTTs) (2022.12.7)\n",
      "Requirement already satisfied: urllib3<1.27,>=1.21.1 in c:\\users\\19144\\anaconda3\\lib\\site-packages (from requests<3,>=2.27->gTTs) (1.26.13)\n",
      "Requirement already satisfied: idna<4,>=2.5 in c:\\users\\19144\\anaconda3\\lib\\site-packages (from requests<3,>=2.27->gTTs) (3.4)\n",
      "Requirement already satisfied: charset-normalizer<3,>=2 in c:\\users\\19144\\anaconda3\\lib\\site-packages (from requests<3,>=2.27->gTTs) (2.0.4)\n"
     ]
    },
    {
     "name": "stderr",
     "output_type": "stream",
     "text": [
      "WARNING: Ignoring invalid distribution -rpcio (c:\\users\\19144\\anaconda3\\lib\\site-packages)\n",
      "WARNING: Ignoring invalid distribution -rpcio (c:\\users\\19144\\anaconda3\\lib\\site-packages)\n",
      "WARNING: Ignoring invalid distribution -rpcio (c:\\users\\19144\\anaconda3\\lib\\site-packages)\n",
      "WARNING: Ignoring invalid distribution -rpcio (c:\\users\\19144\\anaconda3\\lib\\site-packages)\n",
      "WARNING: Ignoring invalid distribution -rpcio (c:\\users\\19144\\anaconda3\\lib\\site-packages)\n",
      "WARNING: Ignoring invalid distribution -rpcio (c:\\users\\19144\\anaconda3\\lib\\site-packages)\n"
     ]
    }
   ],
   "source": [
    "#Import packages\n",
    "!pip install gTTs\n",
    "from gtts import gTTS\n",
    "import os"
   ]
  },
  {
   "cell_type": "code",
   "execution_count": 2,
   "id": "28c56847",
   "metadata": {},
   "outputs": [],
   "source": [
    "#The text you want to convert to human speech\n",
    "mytext = 'Welcome to your first test of Human Speech Production'\n",
    "\n",
    "#Select Language\n",
    "language = 'en'"
   ]
  },
  {
   "cell_type": "code",
   "execution_count": 3,
   "id": "5c4d839e",
   "metadata": {},
   "outputs": [],
   "source": [
    "#Converting the text to Human Speech using gtts(Google text to speech) API\n",
    "myobj=gTTS(text=mytext,lang=language,slow=False)"
   ]
  },
  {
   "cell_type": "code",
   "execution_count": 4,
   "id": "5c0af4b0",
   "metadata": {},
   "outputs": [],
   "source": [
    "#Saving the converted audio to any format\n",
    "myobj.save(\"C:/Users/19144/OneDrive/Desktop/welcome.mp3\")"
   ]
  },
  {
   "cell_type": "code",
   "execution_count": 6,
   "id": "b7ea6ee0",
   "metadata": {},
   "outputs": [
    {
     "data": {
      "text/plain": [
       "1"
      ]
     },
     "execution_count": 6,
     "metadata": {},
     "output_type": "execute_result"
    }
   ],
   "source": [
    "os.system(\"mpg321, C:/Users/19144/OneDrive/Desktop/welcome.mp3\")"
   ]
  },
  {
   "cell_type": "code",
   "execution_count": 1,
   "id": "3126fad5",
   "metadata": {},
   "outputs": [],
   "source": [
    "#We've now created speech saved to a desktop."
   ]
  },
  {
   "cell_type": "code",
   "execution_count": null,
   "id": "46da1634",
   "metadata": {},
   "outputs": [],
   "source": []
  }
 ],
 "metadata": {
  "kernelspec": {
   "display_name": "Python 3 (ipykernel)",
   "language": "python",
   "name": "python3"
  },
  "language_info": {
   "codemirror_mode": {
    "name": "ipython",
    "version": 3
   },
   "file_extension": ".py",
   "mimetype": "text/x-python",
   "name": "python",
   "nbconvert_exporter": "python",
   "pygments_lexer": "ipython3",
   "version": "3.9.12"
  }
 },
 "nbformat": 4,
 "nbformat_minor": 5
}
